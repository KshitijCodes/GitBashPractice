{
 "cells": [
  {
   "cell_type": "code",
   "execution_count": 17,
   "id": "dfb73dd0",
   "metadata": {},
   "outputs": [],
   "source": [
    "class Furniture:\n",
    "    owner = \"Kshitij Srivastava\"\n",
    "    def __init__(self, category, price, material):\n",
    "        self.category = category\n",
    "        self.price = price\n",
    "        self.material = material\n",
    "        \n",
    "    def getcategory(self):\n",
    "        print(\"This Furniture belongs to \" + self.category + \" category.\")\n",
    "    \n",
    "    def getprice(self):\n",
    "        print(\"This Furniture costs \" + str(self.price) + \".\")\n",
    "        \n",
    "    def getmaterial(self):\n",
    "        print(\"This Furniture is made of \" + self.material + \".\")\n",
    "        \n",
    "    @classmethod\n",
    "    def shopkeeper(cls):\n",
    "        print(\"The owner of this shop is \" + cls.owner)\n",
    "        \n",
    "    @staticmethod\n",
    "    def outletcheck(outlet):\n",
    "        if(outlet in [\"Delhi\", \"Lucknow\", \"Varanasi\", \"Bhubaneswar\", \"Jamshedpur\"]):\n",
    "            return(\"Outlet is available in this location\")\n",
    "        else:\n",
    "            return(\"We do not serve this location at the moment.\")"
   ]
  },
  {
   "cell_type": "code",
   "execution_count": null,
   "id": "cdd260ee",
   "metadata": {},
   "outputs": [],
   "source": []
  },
  {
   "cell_type": "code",
   "execution_count": 9,
   "id": "4d27d576",
   "metadata": {},
   "outputs": [],
   "source": [
    "StudyTable = Furniture(\"Study\", 8000, \"Wood\")\n",
    "ShoeRack = Furniture(\"Miscellaneous\", 2000, \"Iron\")\n",
    "Bed = Furniture(\"Bedroom\", 22000, \"Wood\")"
   ]
  },
  {
   "cell_type": "code",
   "execution_count": 10,
   "id": "ad0b796b",
   "metadata": {},
   "outputs": [
    {
     "name": "stdout",
     "output_type": "stream",
     "text": [
      "This Furniture belongs to Study category.\n",
      "This Furniture costs 8000.\n",
      "This Furniture is made of Wood.\n"
     ]
    }
   ],
   "source": [
    "StudyTable.getcategory()\n",
    "StudyTable.getprice()\n",
    "StudyTable.getmaterial()"
   ]
  },
  {
   "cell_type": "code",
   "execution_count": 11,
   "id": "1f97e783",
   "metadata": {},
   "outputs": [
    {
     "name": "stdout",
     "output_type": "stream",
     "text": [
      "This Furniture belongs to Miscellaneous category.\n",
      "This Furniture costs 2000.\n",
      "This Furniture is made of Iron.\n"
     ]
    }
   ],
   "source": [
    "ShoeRack.getcategory()\n",
    "ShoeRack.getprice()\n",
    "ShoeRack.getmaterial()"
   ]
  },
  {
   "cell_type": "code",
   "execution_count": 12,
   "id": "74947be3",
   "metadata": {},
   "outputs": [
    {
     "name": "stdout",
     "output_type": "stream",
     "text": [
      "This Furniture belongs to Bedroom category.\n",
      "This Furniture costs 22000.\n",
      "This Furniture is made of Wood.\n"
     ]
    }
   ],
   "source": [
    "Bed.getcategory()\n",
    "Bed.getprice()\n",
    "Bed.getmaterial()"
   ]
  },
  {
   "cell_type": "code",
   "execution_count": 14,
   "id": "9b513969",
   "metadata": {},
   "outputs": [
    {
     "name": "stdout",
     "output_type": "stream",
     "text": [
      "The owner of this shop is Kshitij Srivastava\n",
      "The owner of this shop is Kshitij Srivastava\n"
     ]
    }
   ],
   "source": [
    "Furniture.shopkeeper()\n",
    "Bed.shopkeeper()"
   ]
  },
  {
   "cell_type": "code",
   "execution_count": 18,
   "id": "5dbf8934",
   "metadata": {},
   "outputs": [
    {
     "name": "stdout",
     "output_type": "stream",
     "text": [
      "Outlet is available in this location\n"
     ]
    }
   ],
   "source": [
    "print(Furniture.outletcheck(\"Delhi\"))"
   ]
  },
  {
   "cell_type": "code",
   "execution_count": 19,
   "id": "5da91155",
   "metadata": {},
   "outputs": [
    {
     "name": "stdout",
     "output_type": "stream",
     "text": [
      "Outlet is available in this location\n"
     ]
    }
   ],
   "source": [
    "print(Furniture.outletcheck(\"Lucknow\"))"
   ]
  },
  {
   "cell_type": "code",
   "execution_count": 20,
   "id": "d0d2af2d",
   "metadata": {},
   "outputs": [
    {
     "name": "stdout",
     "output_type": "stream",
     "text": [
      "We do not serve this location at the moment.\n"
     ]
    }
   ],
   "source": [
    "print(Furniture.outletcheck(\"Pune\"))"
   ]
  }
 ],
 "metadata": {
  "kernelspec": {
   "display_name": "Python 3 (ipykernel)",
   "language": "python",
   "name": "python3"
  },
  "language_info": {
   "codemirror_mode": {
    "name": "ipython",
    "version": 3
   },
   "file_extension": ".py",
   "mimetype": "text/x-python",
   "name": "python",
   "nbconvert_exporter": "python",
   "pygments_lexer": "ipython3",
   "version": "3.9.13"
  }
 },
 "nbformat": 4,
 "nbformat_minor": 5
}
